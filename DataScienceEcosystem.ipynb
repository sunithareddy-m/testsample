{
 "cells": [
  {
   "cell_type": "markdown",
   "id": "55e96bfa-8fb6-4270-8e91-fe0b26d011f3",
   "metadata": {},
   "source": [
    "# Data Science Tools and Eco System"
   ]
  },
  {
   "cell_type": "markdown",
   "id": "414cdd53-d7bf-4787-8ad7-906d056c70a4",
   "metadata": {},
   "source": [
    "### In this notebook, Data Science Tools and Ecosystem are summarized."
   ]
  },
  {
   "cell_type": "markdown",
   "id": "ae6414e0-d5ec-4858-94c3-53a84f5c3ebb",
   "metadata": {},
   "source": [
    "**Objectives:** \n",
    "- List popular languages for Data Science\n",
    "- Commonly Used Libraries for Data Science\n",
    "- How to create a table of contents\n",
    "- How to do arithmatic calculations in python"
   ]
  },
  {
   "cell_type": "markdown",
   "id": "4cc5d699-44b7-4d47-b337-9dc29b7f85d1",
   "metadata": {},
   "source": [
    "Some of the popular languages that Data Scientists use are: \n",
    "1. Python\n",
    "2. R\n",
    "3. Scala\n",
    "4. SQL"
   ]
  },
  {
   "cell_type": "markdown",
   "id": "9dfa3310-560e-4a50-8dfd-291d929cfdb8",
   "metadata": {},
   "source": [
    "Some of the commonly used libraries used by Data Scientists include:\n",
    "1. NumPy \n",
    "2. PyTorch \n",
    "3. Matplotlib\n",
    "4. Pandas"
   ]
  },
  {
   "cell_type": "markdown",
   "id": "3ab10d48-0018-4202-9d99-56ca6b7b61df",
   "metadata": {},
   "source": [
    "| Data Science tools |\n",
    "|:------------------:|\n",
    "|RStudio          |\n",
    "|Apache Hadoop    |\n",
    "|Apache Spark     |\n"
   ]
  },
  {
   "cell_type": "markdown",
   "id": "6d47ff40-7c5d-45bf-bd55-847cf9b33373",
   "metadata": {},
   "source": [
    "### Below are a few examples of evaluating arithmetic expressions in Python"
   ]
  },
  {
   "cell_type": "code",
   "execution_count": 3,
   "id": "8a4e3f0b-af87-4a72-8b01-f8a3a672ff64",
   "metadata": {
    "tags": []
   },
   "outputs": [
    {
     "data": {
      "text/plain": [
       "17"
      ]
     },
     "execution_count": 3,
     "metadata": {},
     "output_type": "execute_result"
    }
   ],
   "source": [
    "(3*4)+5  #This a simple arithmetic expression to mutiply then add integers"
   ]
  },
  {
   "cell_type": "code",
   "execution_count": 2,
   "id": "952b9ad1-0f1b-4a4b-8df1-68acf8cd4f83",
   "metadata": {
    "tags": []
   },
   "outputs": [
    {
     "data": {
      "text/plain": [
       "3.3333333333333335"
      ]
     },
     "execution_count": 2,
     "metadata": {},
     "output_type": "execute_result"
    }
   ],
   "source": [
    "200/60   #This will convert 200 minutes to hours by diving by 60."
   ]
  },
  {
   "cell_type": "markdown",
   "id": "49bc7ef2-2118-4d63-9eab-72df1900ead0",
   "metadata": {},
   "source": [
    " <div style=\"text-align: right;\"> <h2> Author: Sunitha M.</h2> </div>\n"
   ]
  }
 ],
 "metadata": {
  "kernelspec": {
   "display_name": "Python 3 (ipykernel)",
   "language": "python",
   "name": "python3"
  },
  "language_info": {
   "codemirror_mode": {
    "name": "ipython",
    "version": 3
   },
   "file_extension": ".py",
   "mimetype": "text/x-python",
   "name": "python",
   "nbconvert_exporter": "python",
   "pygments_lexer": "ipython3",
   "version": "3.11.5"
  }
 },
 "nbformat": 4,
 "nbformat_minor": 5
}
